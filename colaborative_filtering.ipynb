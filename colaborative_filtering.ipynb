{
  "nbformat": 4,
  "nbformat_minor": 0,
  "metadata": {
    "colab": {
      "provenance": []
    },
    "kernelspec": {
      "name": "python3",
      "display_name": "Python 3"
    },
    "language_info": {
      "name": "python"
    }
  },
  "cells": [
    {
      "cell_type": "code",
      "source": [
        "!pip install pyspark"
      ],
      "metadata": {
        "colab": {
          "base_uri": "https://localhost:8080/"
        },
        "id": "UEmqWWtEbpgi",
        "outputId": "9c31d0d9-6cfe-41ce-ba9a-a6f01f0fa84e"
      },
      "execution_count": 2,
      "outputs": [
        {
          "output_type": "stream",
          "name": "stdout",
          "text": [
            "Looking in indexes: https://pypi.org/simple, https://us-python.pkg.dev/colab-wheels/public/simple/\n",
            "Collecting pyspark\n",
            "  Downloading pyspark-3.3.2.tar.gz (281.4 MB)\n",
            "\u001b[2K     \u001b[90m━━━━━━━━━━━━━━━━━━━━━━━━━━━━━━━━━━━━━━━\u001b[0m \u001b[32m281.4/281.4 MB\u001b[0m \u001b[31m4.2 MB/s\u001b[0m eta \u001b[36m0:00:00\u001b[0m\n",
            "\u001b[?25h  Preparing metadata (setup.py) ... \u001b[?25l\u001b[?25hdone\n",
            "Collecting py4j==0.10.9.5\n",
            "  Downloading py4j-0.10.9.5-py2.py3-none-any.whl (199 kB)\n",
            "\u001b[2K     \u001b[90m━━━━━━━━━━━━━━━━━━━━━━━━━━━━━━━━━━━━━━\u001b[0m \u001b[32m199.7/199.7 kB\u001b[0m \u001b[31m16.7 MB/s\u001b[0m eta \u001b[36m0:00:00\u001b[0m\n",
            "\u001b[?25hBuilding wheels for collected packages: pyspark\n",
            "  Building wheel for pyspark (setup.py) ... \u001b[?25l\u001b[?25hdone\n",
            "  Created wheel for pyspark: filename=pyspark-3.3.2-py2.py3-none-any.whl size=281824028 sha256=a359eb3b266803f990cf03338d56a5bdf94475a1d55d2f05a8dde8d1c4a8ae8f\n",
            "  Stored in directory: /root/.cache/pip/wheels/6c/e3/9b/0525ce8a69478916513509d43693511463c6468db0de237c86\n",
            "Successfully built pyspark\n",
            "Installing collected packages: py4j, pyspark\n",
            "  Attempting uninstall: py4j\n",
            "    Found existing installation: py4j 0.10.9.7\n",
            "    Uninstalling py4j-0.10.9.7:\n",
            "      Successfully uninstalled py4j-0.10.9.7\n",
            "Successfully installed py4j-0.10.9.5 pyspark-3.3.2\n"
          ]
        }
      ]
    },
    {
      "cell_type": "code",
      "execution_count": 5,
      "metadata": {
        "id": "Rn46NeCGbeyx"
      },
      "outputs": [],
      "source": [
        "from pyspark.ml.evaluation import RegressionEvaluator\n",
        "from pyspark.ml.recommendation import ALS\n",
        "from pyspark.sql import Row, SparkSession"
      ]
    },
    {
      "cell_type": "code",
      "source": [
        "# Create a SparkSession\n",
        "spark = SparkSession.builder \\\n",
        "        .master(\"local\") \\\n",
        "        .appName(\"myApp\") \\\n",
        "        .config(\"spark.sql.session.timeZone\", \"UTC\") \\\n",
        "        .config(\"spark.sql.session.timeout\", \"48h\") \\\n",
        "        .getOrCreate()"
      ],
      "metadata": {
        "id": "sVMko1mldiHi"
      },
      "execution_count": 6,
      "outputs": []
    },
    {
      "cell_type": "code",
      "source": [
        "lines = spark.read.text(\"./sample_data/sample_movielens_ratings.txt\").rdd\n",
        "parts = lines.map(lambda row: row.value.split(\"::\"))\n",
        "ratingsRDD = parts.map(lambda p: Row(userId=int(p[0]), movieId=int(p[1]),\n",
        "                                     rating=float(p[2]), timestamp=int(p[3])))\n",
        "ratings = spark.createDataFrame(ratingsRDD)\n",
        "(training, test) = ratings.randomSplit([0.8, 0.2])"
      ],
      "metadata": {
        "id": "spoxN2ttb7Mz"
      },
      "execution_count": 9,
      "outputs": []
    },
    {
      "cell_type": "code",
      "source": [
        "max_iters = [5, 10, 20]\n",
        "reg_params = [0.1, 0.5, 1.0]"
      ],
      "metadata": {
        "id": "mlFgMW0ZfCEP"
      },
      "execution_count": 20,
      "outputs": []
    },
    {
      "cell_type": "code",
      "source": [
        "# Build the recommendation model using ALS on the training data\n",
        "# Note we set cold start strategy to 'drop' to ensure we don't get NaN evaluation metrics\n",
        "for max_iter in max_iters:\n",
        "  for reg_param in reg_params:\n",
        "    als = ALS(maxIter=max_iter, regParam=reg_param, userCol=\"userId\", itemCol=\"movieId\", ratingCol=\"rating\",\n",
        "              coldStartStrategy=\"drop\")\n",
        "    model = als.fit(training)\n",
        "    # Evaluate the model by computing the RMSE on the test data\n",
        "    predictions = model.transform(test)\n",
        "    evaluator = RegressionEvaluator(metricName=\"rmse\", labelCol=\"rating\",\n",
        "                                    predictionCol=\"prediction\")\n",
        "    rmse = evaluator.evaluate(predictions)\n",
        "    print(\"Root-mean-square error for max_iter=\"+ str(max_iter) + \" and reg_param=\" + str(reg_param) + \" is \" + str(rmse))"
      ],
      "metadata": {
        "colab": {
          "base_uri": "https://localhost:8080/"
        },
        "id": "6HqzpgvGeMRc",
        "outputId": "f56b4d5e-3eba-4473-dfc7-b1a89ac377bc"
      },
      "execution_count": 24,
      "outputs": [
        {
          "output_type": "stream",
          "name": "stdout",
          "text": [
            "Root-mean-square error for max_iter=5 and reg_param=0.1 is 1.0076346872213067\n",
            "Root-mean-square error for max_iter=5 and reg_param=0.5 is 1.1860752829689025\n",
            "Root-mean-square error for max_iter=5 and reg_param=1.0 is 1.4561520789487696\n",
            "Root-mean-square error for max_iter=10 and reg_param=0.1 is 0.9731089097261111\n",
            "Root-mean-square error for max_iter=10 and reg_param=0.5 is 1.1850439989125914\n",
            "Root-mean-square error for max_iter=10 and reg_param=1.0 is 1.4561520736969142\n",
            "Root-mean-square error for max_iter=20 and reg_param=0.1 is 0.9601777435202717\n",
            "Root-mean-square error for max_iter=20 and reg_param=0.5 is 1.1852264469153184\n",
            "Root-mean-square error for max_iter=20 and reg_param=1.0 is 1.4561520814341633\n"
          ]
        }
      ]
    },
    {
      "cell_type": "markdown",
      "source": [
        "As we can see, by set max_iter=20 and reg_param=0.1 will give us small rmse that is 0.9601777435202717."
      ],
      "metadata": {
        "id": "4JOHUIZGgarl"
      }
    },
    {
      "cell_type": "code",
      "source": [
        "# Use maxIter = 20 and regParam = 0.1\n",
        "als = ALS(maxIter=20, regParam=0.1, userCol=\"userId\", itemCol=\"movieId\", ratingCol=\"rating\",\n",
        "          coldStartStrategy=\"drop\")\n",
        "model = als.fit(training)\n",
        "# Evaluate the model by computing the RMSE on the test data\n",
        "predictions = model.transform(test)\n",
        "evaluator = RegressionEvaluator(metricName=\"rmse\", labelCol=\"rating\",\n",
        "                                predictionCol=\"prediction\")\n",
        "rmse = evaluator.evaluate(predictions)\n",
        "print(\"Root-mean-square error = \" + str(rmse))"
      ],
      "metadata": {
        "colab": {
          "base_uri": "https://localhost:8080/"
        },
        "id": "4B6Ghzaggv_t",
        "outputId": "d18b5e83-7b40-4944-9d88-9e55c3babae7"
      },
      "execution_count": 25,
      "outputs": [
        {
          "output_type": "stream",
          "name": "stdout",
          "text": [
            "Root-mean-square error = 0.9601777435202717\n"
          ]
        }
      ]
    },
    {
      "cell_type": "code",
      "source": [
        "# Generate top 10 movie recommendations for each user\n",
        "userRecs = model.recommendForAllUsers(10)\n",
        "userRecs.show()\n",
        "# Generate top 10 user recommendations for each movie\n",
        "movieRecs = model.recommendForAllItems(10)\n",
        "movieRecs.show()"
      ],
      "metadata": {
        "colab": {
          "base_uri": "https://localhost:8080/"
        },
        "id": "1ryUk52NeYMn",
        "outputId": "36a87cec-af62-43ca-cd66-c61872d7b767"
      },
      "execution_count": 30,
      "outputs": [
        {
          "output_type": "stream",
          "name": "stdout",
          "text": [
            "+------+--------------------+\n",
            "|userId|     recommendations|\n",
            "+------+--------------------+\n",
            "|    20|[{22, 4.109164}, ...|\n",
            "|    10|[{49, 2.5834336},...|\n",
            "|     0|[{92, 3.2258756},...|\n",
            "|     1|[{68, 3.158934}, ...|\n",
            "|    21|[{29, 4.399133}, ...|\n",
            "|    11|[{18, 4.786726}, ...|\n",
            "|    12|[{46, 4.6337705},...|\n",
            "|    22|[{74, 4.6178}, {8...|\n",
            "|     2|[{93, 4.5418878},...|\n",
            "|    13|[{93, 3.108034}, ...|\n",
            "|     3|[{18, 3.4956603},...|\n",
            "|    23|[{46, 4.954659}, ...|\n",
            "|     4|[{29, 3.3519177},...|\n",
            "|    24|[{29, 4.484409}, ...|\n",
            "|    14|[{29, 4.66772}, {...|\n",
            "|     5|[{46, 4.1608276},...|\n",
            "|    15|[{46, 3.8676603},...|\n",
            "|    25|[{25, 3.0491807},...|\n",
            "|    26|[{94, 4.6550374},...|\n",
            "|     6|[{25, 3.8814223},...|\n",
            "+------+--------------------+\n",
            "only showing top 20 rows\n",
            "\n",
            "+-------+--------------------+\n",
            "|movieId|     recommendations|\n",
            "+-------+--------------------+\n",
            "|     20|[{17, 4.167}, {5,...|\n",
            "|     40|[{2, 3.4115524}, ...|\n",
            "|     10|[{23, 3.3799043},...|\n",
            "|     50|[{23, 3.7085476},...|\n",
            "|     80|[{18, 2.8414414},...|\n",
            "|     70|[{22, 2.5868049},...|\n",
            "|     60|[{22, 2.6512058},...|\n",
            "|     90|[{17, 4.461057}, ...|\n",
            "|     30|[{11, 4.6698523},...|\n",
            "|      0|[{28, 2.6805913},...|\n",
            "|     31|[{12, 2.9827657},...|\n",
            "|     81|[{28, 4.1812925},...|\n",
            "|     91|[{12, 2.7302747},...|\n",
            "|      1|[{12, 3.0687382},...|\n",
            "|     41|[{28, 1.9048011},...|\n",
            "|     61|[{7, 2.0728405}, ...|\n",
            "|     51|[{22, 4.0008197},...|\n",
            "|     21|[{26, 2.612957}, ...|\n",
            "|     11|[{18, 3.4290767},...|\n",
            "|     71|[{25, 2.7449715},...|\n",
            "+-------+--------------------+\n",
            "only showing top 20 rows\n",
            "\n"
          ]
        }
      ]
    },
    {
      "cell_type": "code",
      "source": [
        "# Generate top 10 movie recommendations for a specified set of users\n",
        "users = ratings.select(als.getUserCol()).distinct().limit(3)\n",
        "userSubsetRecs = model.recommendForUserSubset(users, 10)\n",
        "userSubsetRecs.show()"
      ],
      "metadata": {
        "colab": {
          "base_uri": "https://localhost:8080/"
        },
        "id": "YndhNQeXecOX",
        "outputId": "528554f9-5165-4d02-9d03-14128413c05f"
      },
      "execution_count": 31,
      "outputs": [
        {
          "output_type": "stream",
          "name": "stdout",
          "text": [
            "+------+--------------------+\n",
            "|userId|     recommendations|\n",
            "+------+--------------------+\n",
            "|    26|[{94, 4.6550374},...|\n",
            "|    19|[{94, 3.4853394},...|\n",
            "|    29|[{46, 4.2793827},...|\n",
            "+------+--------------------+\n",
            "\n"
          ]
        }
      ]
    },
    {
      "cell_type": "code",
      "source": [
        "# Generate top 10 user recommendations for a specified set of movies\n",
        "movies = ratings.select(als.getItemCol()).distinct().limit(3)\n",
        "movieSubSetRecs = model.recommendForItemSubset(movies, 10)\n",
        "movieSubSetRecs.show()"
      ],
      "metadata": {
        "colab": {
          "base_uri": "https://localhost:8080/"
        },
        "id": "pf1Nj1tdefoM",
        "outputId": "930e495b-fb8e-4f7e-dd0e-b39b2427f815"
      },
      "execution_count": 32,
      "outputs": [
        {
          "output_type": "stream",
          "name": "stdout",
          "text": [
            "+-------+--------------------+\n",
            "|movieId|     recommendations|\n",
            "+-------+--------------------+\n",
            "|     65|[{23, 4.140495}, ...|\n",
            "|     26|[{28, 2.4152143},...|\n",
            "|     29|[{8, 4.8092146}, ...|\n",
            "+-------+--------------------+\n",
            "\n"
          ]
        }
      ]
    }
  ]
}